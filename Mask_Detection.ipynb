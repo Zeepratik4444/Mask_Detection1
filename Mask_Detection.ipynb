{
  "nbformat": 4,
  "nbformat_minor": 0,
  "metadata": {
    "colab": {
      "provenance": [],
      "gpuType": "T4"
    },
    "kernelspec": {
      "name": "python3",
      "display_name": "Python 3"
    },
    "language_info": {
      "name": "python"
    },
    "widgets": {
      "application/vnd.jupyter.widget-state+json": {
        "a7bad15a09454cb297d5c4a92e9300cd": {
          "model_module": "@jupyter-widgets/controls",
          "model_name": "HBoxModel",
          "model_module_version": "1.5.0",
          "state": {
            "_dom_classes": [],
            "_model_module": "@jupyter-widgets/controls",
            "_model_module_version": "1.5.0",
            "_model_name": "HBoxModel",
            "_view_count": null,
            "_view_module": "@jupyter-widgets/controls",
            "_view_module_version": "1.5.0",
            "_view_name": "HBoxView",
            "box_style": "",
            "children": [
              "IPY_MODEL_f5d95ed2d78644988009ee7862cb2f69",
              "IPY_MODEL_8a7d93eeec774169944327e2fae51e01",
              "IPY_MODEL_fb6fbc62ac8b416e8a37d446f0c316fd"
            ],
            "layout": "IPY_MODEL_73fd45455bb241aa99cf627517670a87"
          }
        },
        "f5d95ed2d78644988009ee7862cb2f69": {
          "model_module": "@jupyter-widgets/controls",
          "model_name": "HTMLModel",
          "model_module_version": "1.5.0",
          "state": {
            "_dom_classes": [],
            "_model_module": "@jupyter-widgets/controls",
            "_model_module_version": "1.5.0",
            "_model_name": "HTMLModel",
            "_view_count": null,
            "_view_module": "@jupyter-widgets/controls",
            "_view_module_version": "1.5.0",
            "_view_name": "HTMLView",
            "description": "",
            "description_tooltip": null,
            "layout": "IPY_MODEL_be9e538a26974364b1be19b7ae5c02c5",
            "placeholder": "​",
            "style": "IPY_MODEL_89e3fa0bb8254f9c8a137fbc944afa10",
            "value": "100%"
          }
        },
        "8a7d93eeec774169944327e2fae51e01": {
          "model_module": "@jupyter-widgets/controls",
          "model_name": "FloatProgressModel",
          "model_module_version": "1.5.0",
          "state": {
            "_dom_classes": [],
            "_model_module": "@jupyter-widgets/controls",
            "_model_module_version": "1.5.0",
            "_model_name": "FloatProgressModel",
            "_view_count": null,
            "_view_module": "@jupyter-widgets/controls",
            "_view_module_version": "1.5.0",
            "_view_name": "ProgressView",
            "bar_style": "success",
            "description": "",
            "description_tooltip": null,
            "layout": "IPY_MODEL_462231aeb2bb4a3e8ffd46919acf4003",
            "max": 50,
            "min": 0,
            "orientation": "horizontal",
            "style": "IPY_MODEL_0639f9e9cedd464d8544627a5c2e31c6",
            "value": 50
          }
        },
        "fb6fbc62ac8b416e8a37d446f0c316fd": {
          "model_module": "@jupyter-widgets/controls",
          "model_name": "HTMLModel",
          "model_module_version": "1.5.0",
          "state": {
            "_dom_classes": [],
            "_model_module": "@jupyter-widgets/controls",
            "_model_module_version": "1.5.0",
            "_model_name": "HTMLModel",
            "_view_count": null,
            "_view_module": "@jupyter-widgets/controls",
            "_view_module_version": "1.5.0",
            "_view_name": "HTMLView",
            "description": "",
            "description_tooltip": null,
            "layout": "IPY_MODEL_507c1958a63f43c29a48f80272c2de63",
            "placeholder": "​",
            "style": "IPY_MODEL_bca79012fa3544dbb7cb160cc25ae9e3",
            "value": " 50/50 [11:58&lt;00:00, 13.65s/it]"
          }
        },
        "73fd45455bb241aa99cf627517670a87": {
          "model_module": "@jupyter-widgets/base",
          "model_name": "LayoutModel",
          "model_module_version": "1.2.0",
          "state": {
            "_model_module": "@jupyter-widgets/base",
            "_model_module_version": "1.2.0",
            "_model_name": "LayoutModel",
            "_view_count": null,
            "_view_module": "@jupyter-widgets/base",
            "_view_module_version": "1.2.0",
            "_view_name": "LayoutView",
            "align_content": null,
            "align_items": null,
            "align_self": null,
            "border": null,
            "bottom": null,
            "display": null,
            "flex": null,
            "flex_flow": null,
            "grid_area": null,
            "grid_auto_columns": null,
            "grid_auto_flow": null,
            "grid_auto_rows": null,
            "grid_column": null,
            "grid_gap": null,
            "grid_row": null,
            "grid_template_areas": null,
            "grid_template_columns": null,
            "grid_template_rows": null,
            "height": null,
            "justify_content": null,
            "justify_items": null,
            "left": null,
            "margin": null,
            "max_height": null,
            "max_width": null,
            "min_height": null,
            "min_width": null,
            "object_fit": null,
            "object_position": null,
            "order": null,
            "overflow": null,
            "overflow_x": null,
            "overflow_y": null,
            "padding": null,
            "right": null,
            "top": null,
            "visibility": null,
            "width": null
          }
        },
        "be9e538a26974364b1be19b7ae5c02c5": {
          "model_module": "@jupyter-widgets/base",
          "model_name": "LayoutModel",
          "model_module_version": "1.2.0",
          "state": {
            "_model_module": "@jupyter-widgets/base",
            "_model_module_version": "1.2.0",
            "_model_name": "LayoutModel",
            "_view_count": null,
            "_view_module": "@jupyter-widgets/base",
            "_view_module_version": "1.2.0",
            "_view_name": "LayoutView",
            "align_content": null,
            "align_items": null,
            "align_self": null,
            "border": null,
            "bottom": null,
            "display": null,
            "flex": null,
            "flex_flow": null,
            "grid_area": null,
            "grid_auto_columns": null,
            "grid_auto_flow": null,
            "grid_auto_rows": null,
            "grid_column": null,
            "grid_gap": null,
            "grid_row": null,
            "grid_template_areas": null,
            "grid_template_columns": null,
            "grid_template_rows": null,
            "height": null,
            "justify_content": null,
            "justify_items": null,
            "left": null,
            "margin": null,
            "max_height": null,
            "max_width": null,
            "min_height": null,
            "min_width": null,
            "object_fit": null,
            "object_position": null,
            "order": null,
            "overflow": null,
            "overflow_x": null,
            "overflow_y": null,
            "padding": null,
            "right": null,
            "top": null,
            "visibility": null,
            "width": null
          }
        },
        "89e3fa0bb8254f9c8a137fbc944afa10": {
          "model_module": "@jupyter-widgets/controls",
          "model_name": "DescriptionStyleModel",
          "model_module_version": "1.5.0",
          "state": {
            "_model_module": "@jupyter-widgets/controls",
            "_model_module_version": "1.5.0",
            "_model_name": "DescriptionStyleModel",
            "_view_count": null,
            "_view_module": "@jupyter-widgets/base",
            "_view_module_version": "1.2.0",
            "_view_name": "StyleView",
            "description_width": ""
          }
        },
        "462231aeb2bb4a3e8ffd46919acf4003": {
          "model_module": "@jupyter-widgets/base",
          "model_name": "LayoutModel",
          "model_module_version": "1.2.0",
          "state": {
            "_model_module": "@jupyter-widgets/base",
            "_model_module_version": "1.2.0",
            "_model_name": "LayoutModel",
            "_view_count": null,
            "_view_module": "@jupyter-widgets/base",
            "_view_module_version": "1.2.0",
            "_view_name": "LayoutView",
            "align_content": null,
            "align_items": null,
            "align_self": null,
            "border": null,
            "bottom": null,
            "display": null,
            "flex": null,
            "flex_flow": null,
            "grid_area": null,
            "grid_auto_columns": null,
            "grid_auto_flow": null,
            "grid_auto_rows": null,
            "grid_column": null,
            "grid_gap": null,
            "grid_row": null,
            "grid_template_areas": null,
            "grid_template_columns": null,
            "grid_template_rows": null,
            "height": null,
            "justify_content": null,
            "justify_items": null,
            "left": null,
            "margin": null,
            "max_height": null,
            "max_width": null,
            "min_height": null,
            "min_width": null,
            "object_fit": null,
            "object_position": null,
            "order": null,
            "overflow": null,
            "overflow_x": null,
            "overflow_y": null,
            "padding": null,
            "right": null,
            "top": null,
            "visibility": null,
            "width": null
          }
        },
        "0639f9e9cedd464d8544627a5c2e31c6": {
          "model_module": "@jupyter-widgets/controls",
          "model_name": "ProgressStyleModel",
          "model_module_version": "1.5.0",
          "state": {
            "_model_module": "@jupyter-widgets/controls",
            "_model_module_version": "1.5.0",
            "_model_name": "ProgressStyleModel",
            "_view_count": null,
            "_view_module": "@jupyter-widgets/base",
            "_view_module_version": "1.2.0",
            "_view_name": "StyleView",
            "bar_color": null,
            "description_width": ""
          }
        },
        "507c1958a63f43c29a48f80272c2de63": {
          "model_module": "@jupyter-widgets/base",
          "model_name": "LayoutModel",
          "model_module_version": "1.2.0",
          "state": {
            "_model_module": "@jupyter-widgets/base",
            "_model_module_version": "1.2.0",
            "_model_name": "LayoutModel",
            "_view_count": null,
            "_view_module": "@jupyter-widgets/base",
            "_view_module_version": "1.2.0",
            "_view_name": "LayoutView",
            "align_content": null,
            "align_items": null,
            "align_self": null,
            "border": null,
            "bottom": null,
            "display": null,
            "flex": null,
            "flex_flow": null,
            "grid_area": null,
            "grid_auto_columns": null,
            "grid_auto_flow": null,
            "grid_auto_rows": null,
            "grid_column": null,
            "grid_gap": null,
            "grid_row": null,
            "grid_template_areas": null,
            "grid_template_columns": null,
            "grid_template_rows": null,
            "height": null,
            "justify_content": null,
            "justify_items": null,
            "left": null,
            "margin": null,
            "max_height": null,
            "max_width": null,
            "min_height": null,
            "min_width": null,
            "object_fit": null,
            "object_position": null,
            "order": null,
            "overflow": null,
            "overflow_x": null,
            "overflow_y": null,
            "padding": null,
            "right": null,
            "top": null,
            "visibility": null,
            "width": null
          }
        },
        "bca79012fa3544dbb7cb160cc25ae9e3": {
          "model_module": "@jupyter-widgets/controls",
          "model_name": "DescriptionStyleModel",
          "model_module_version": "1.5.0",
          "state": {
            "_model_module": "@jupyter-widgets/controls",
            "_model_module_version": "1.5.0",
            "_model_name": "DescriptionStyleModel",
            "_view_count": null,
            "_view_module": "@jupyter-widgets/base",
            "_view_module_version": "1.2.0",
            "_view_name": "StyleView",
            "description_width": ""
          }
        }
      }
    }
  },
  "cells": [
    {
      "cell_type": "code",
      "execution_count": null,
      "metadata": {
        "id": "OOu-BJbEHK-O"
      },
      "outputs": [],
      "source": [
        "\n",
        "import pandas as pd\n",
        "import numpy as np\n",
        "import seaborn as sns\n",
        "import matplotlib.pyplot as plt\n",
        "import math\n",
        "from sklearn.model_selection import train_test_split\n",
        "from sklearn.metrics import classification_report, confusion_matrix,precision_recall_curve\n",
        "import re\n",
        "import os\n",
        "import shutil"
      ]
    },
    {
      "cell_type": "code",
      "source": [
        "import kagglehub\n",
        "\n",
        "# Download latest version\n",
        "path = kagglehub.dataset_download(\"andrewmvd/face-mask-detection\")\n",
        "\n",
        "print(\"Path to dataset files:\", path)"
      ],
      "metadata": {
        "colab": {
          "base_uri": "https://localhost:8080/"
        },
        "id": "AzLY_7SpxF4q",
        "outputId": "59bb7fe1-6598-4437-8762-5af6dedf471c"
      },
      "execution_count": null,
      "outputs": [
        {
          "output_type": "stream",
          "name": "stdout",
          "text": [
            "Downloading from https://www.kaggle.com/api/v1/datasets/download/andrewmvd/face-mask-detection?dataset_version_number=1...\n"
          ]
        },
        {
          "output_type": "stream",
          "name": "stderr",
          "text": [
            "100%|██████████| 398M/398M [00:05<00:00, 70.5MB/s]"
          ]
        },
        {
          "output_type": "stream",
          "name": "stdout",
          "text": [
            "Extracting files...\n"
          ]
        },
        {
          "output_type": "stream",
          "name": "stderr",
          "text": [
            "\n"
          ]
        },
        {
          "output_type": "stream",
          "name": "stdout",
          "text": [
            "Path to dataset files: /root/.cache/kagglehub/datasets/andrewmvd/face-mask-detection/versions/1\n"
          ]
        }
      ]
    },
    {
      "cell_type": "code",
      "source": [
        "mask_data=r\"/root/.cache/kagglehub/datasets/andrewmvd/face-mask-detection/versions/1\"\n",
        "folders=os.listdir(mask_data)\n",
        "annotation_dir=os.path.join(mask_data,folders[1])\n",
        "image_dir=os.path.join(mask_data,folders[0])\n",
        "print(len(os.listdir(image_dir)))\n",
        "print(len(os.listdir(annotation_dir)))"
      ],
      "metadata": {
        "id": "318gJl30M49c",
        "colab": {
          "base_uri": "https://localhost:8080/"
        },
        "outputId": "d8691527-cb09-4ce2-967d-a6be8feed1a6"
      },
      "execution_count": null,
      "outputs": [
        {
          "output_type": "stream",
          "name": "stdout",
          "text": [
            "853\n",
            "853\n"
          ]
        }
      ]
    },
    {
      "cell_type": "code",
      "source": [
        "os.listdir(annotation_dir)[:5]"
      ],
      "metadata": {
        "colab": {
          "base_uri": "https://localhost:8080/"
        },
        "id": "xCJTRtMcMG4b",
        "outputId": "73fca3b6-476c-42ae-dd4b-81635a010a05"
      },
      "execution_count": null,
      "outputs": [
        {
          "output_type": "execute_result",
          "data": {
            "text/plain": [
              "['maksssksksss604.xml',\n",
              " 'maksssksksss453.xml',\n",
              " 'maksssksksss452.xml',\n",
              " 'maksssksksss658.xml',\n",
              " 'maksssksksss150.xml']"
            ]
          },
          "metadata": {},
          "execution_count": 4
        }
      ]
    },
    {
      "cell_type": "code",
      "source": [
        "\n",
        "import xml.etree.ElementTree as ET\n",
        "\n",
        "def extract_category_from_xml(xml_file_path):\n",
        "  \"\"\"Extracts the category from an XML file.\"\"\"\n",
        "  try:\n",
        "    tree = ET.parse(xml_file_path)\n",
        "    root = tree.getroot()\n",
        "    for obj in root.findall('object'):\n",
        "      category = obj.find('name').text\n",
        "      return category\n",
        "  except Exception as e:\n",
        "    print(f\"Error processing XML file {xml_file_path}: {e}\")\n",
        "    return None\n",
        "\n",
        "categories = []\n",
        "for xml_filename in os.listdir(annotation_dir):\n",
        "  if xml_filename.endswith(\".xml\"):\n",
        "    xml_file_path = os.path.join(annotation_dir, xml_filename)\n",
        "    category = extract_category_from_xml(xml_file_path)\n",
        "    if category:\n",
        "      categories.append(category)\n",
        "\n",
        "categories[:10]"
      ],
      "metadata": {
        "colab": {
          "base_uri": "https://localhost:8080/"
        },
        "collapsed": true,
        "id": "8Dq5ybKmCD79",
        "outputId": "3019695b-e585-487f-cb72-9f71a7401cdd"
      },
      "execution_count": null,
      "outputs": [
        {
          "output_type": "execute_result",
          "data": {
            "text/plain": [
              "['with_mask',\n",
              " 'without_mask',\n",
              " 'with_mask',\n",
              " 'mask_weared_incorrect',\n",
              " 'with_mask',\n",
              " 'without_mask',\n",
              " 'with_mask',\n",
              " 'with_mask',\n",
              " 'without_mask',\n",
              " 'with_mask']"
            ]
          },
          "metadata": {},
          "execution_count": 5
        }
      ]
    },
    {
      "cell_type": "code",
      "source": [
        "image_files=os.listdir(image_dir)\n",
        "image_files[:5]"
      ],
      "metadata": {
        "colab": {
          "base_uri": "https://localhost:8080/"
        },
        "id": "cwx7qLLyMHnd",
        "outputId": "59d2334d-f631-4b52-84c6-345d460dbda8"
      },
      "execution_count": null,
      "outputs": [
        {
          "output_type": "execute_result",
          "data": {
            "text/plain": [
              "['maksssksksss141.png',\n",
              " 'maksssksksss309.png',\n",
              " 'maksssksksss124.png',\n",
              " 'maksssksksss803.png',\n",
              " 'maksssksksss582.png']"
            ]
          },
          "metadata": {},
          "execution_count": 6
        }
      ]
    },
    {
      "cell_type": "code",
      "source": [
        "# Sample list of categories\n",
        "category_names =list(set(categories))\n",
        "category_names"
      ],
      "metadata": {
        "colab": {
          "base_uri": "https://localhost:8080/"
        },
        "id": "EH2BCks4LmkN",
        "outputId": "e8562b4f-edea-4bed-f3f7-f00b9e9703c7"
      },
      "execution_count": null,
      "outputs": [
        {
          "output_type": "execute_result",
          "data": {
            "text/plain": [
              "['mask_weared_incorrect', 'without_mask', 'with_mask']"
            ]
          },
          "metadata": {},
          "execution_count": 7
        }
      ]
    },
    {
      "cell_type": "code",
      "source": [
        "os.makedirs(\"mask_data\",exist_ok=True)\n",
        "parent_folder=\"mask_data\"\n",
        "for category in category_names:\n",
        "    category=os.path.join(parent_folder,category)\n",
        "    os.makedirs(category, exist_ok=True)"
      ],
      "metadata": {
        "id": "3DvCVt7aOID8"
      },
      "execution_count": null,
      "outputs": []
    },
    {
      "cell_type": "code",
      "source": [
        "\n",
        "for image, category in zip(image_files, categories):\n",
        "    folder_name = category.replace(' ', '_')  # Replace spaces with underscores\n",
        "    source=os.path.join(image_dir,image)\n",
        "    destination=os.path.join(parent_folder,folder_name)\n",
        "    shutil.move(source,destination)"
      ],
      "metadata": {
        "collapsed": true,
        "id": "Ay2B3s4ZKNfn"
      },
      "execution_count": null,
      "outputs": []
    },
    {
      "cell_type": "code",
      "source": [
        "with_mask_data=os.listdir(os.path.join(parent_folder,\"with_mask\"))\n",
        "without_mask_data=os.listdir(os.path.join(parent_folder,\"without_mask\"))\n",
        "incorrect_mask_data=os.listdir(os.path.join(parent_folder,\"mask_weared_incorrect\"))\n",
        "print(f\"with mask folder has {len(with_mask_data)} files\")\n",
        "print(f\"without mask folder has {len(without_mask_data)} files\")\n",
        "print(f\"incorrect mask folder has {len(incorrect_mask_data)} files\")\n"
      ],
      "metadata": {
        "colab": {
          "base_uri": "https://localhost:8080/"
        },
        "id": "us_rj0CMbALo",
        "outputId": "949945bd-1307-458d-ac13-dc051958baf1"
      },
      "execution_count": null,
      "outputs": [
        {
          "output_type": "stream",
          "name": "stdout",
          "text": [
            "with mask folder has 698 files\n",
            "without mask folder has 119 files\n",
            "incorrect mask folder has 36 files\n"
          ]
        }
      ]
    },
    {
      "cell_type": "code",
      "source": [
        "!pip install split-folders"
      ],
      "metadata": {
        "colab": {
          "base_uri": "https://localhost:8080/"
        },
        "id": "gSWzqszOhJ57",
        "outputId": "e01b88c4-5504-4aad-8a1a-374c10d8fd5a"
      },
      "execution_count": null,
      "outputs": [
        {
          "output_type": "stream",
          "name": "stdout",
          "text": [
            "Collecting split-folders\n",
            "  Downloading split_folders-0.5.1-py3-none-any.whl.metadata (6.2 kB)\n",
            "Downloading split_folders-0.5.1-py3-none-any.whl (8.4 kB)\n",
            "Installing collected packages: split-folders\n",
            "Successfully installed split-folders-0.5.1\n"
          ]
        }
      ]
    },
    {
      "cell_type": "code",
      "source": [
        "import splitfolders\n",
        "os.mkdir(\"split_mask_data\")\n",
        "splitfolders.ratio(parent_folder,output=\"split_mask_data\",seed=42,ratio=(0.8,0.2))"
      ],
      "metadata": {
        "colab": {
          "base_uri": "https://localhost:8080/"
        },
        "id": "9gemLdBTlknY",
        "outputId": "fb6ddc57-9267-442d-c785-6b864fde97e3"
      },
      "execution_count": null,
      "outputs": [
        {
          "output_type": "stream",
          "name": "stderr",
          "text": [
            "Copying files: 853 files [00:00, 985.87 files/s]\n"
          ]
        }
      ]
    },
    {
      "cell_type": "code",
      "source": [
        "import torch\n",
        "from torch import nn\n",
        "torch.__version__"
      ],
      "metadata": {
        "colab": {
          "base_uri": "https://localhost:8080/",
          "height": 36
        },
        "id": "_-5QdSBsTztr",
        "outputId": "aa7cecda-fed6-4a47-9eb2-3ae7f10e3655"
      },
      "execution_count": null,
      "outputs": [
        {
          "output_type": "execute_result",
          "data": {
            "text/plain": [
              "'2.5.0+cu121'"
            ],
            "application/vnd.google.colaboratory.intrinsic+json": {
              "type": "string"
            }
          },
          "metadata": {},
          "execution_count": 13
        }
      ]
    },
    {
      "cell_type": "code",
      "source": [
        "device = \"cuda\" if torch.cuda.is_available() else \"cpu\"\n",
        "device"
      ],
      "metadata": {
        "colab": {
          "base_uri": "https://localhost:8080/",
          "height": 36
        },
        "id": "WXmmkW9gMego",
        "outputId": "f4ae1e7c-7e25-442a-e5e1-b0a73f7f474f"
      },
      "execution_count": null,
      "outputs": [
        {
          "output_type": "execute_result",
          "data": {
            "text/plain": [
              "'cuda'"
            ],
            "application/vnd.google.colaboratory.intrinsic+json": {
              "type": "string"
            }
          },
          "metadata": {},
          "execution_count": 14
        }
      ]
    },
    {
      "cell_type": "code",
      "source": [
        "import torchvision\n",
        "from torchvision.models import efficientnet_b2, EfficientNet_B2_Weights\n",
        "from torchvision.models._api import WeightsEnum\n",
        "from torch.hub import load_state_dict_from_url\n",
        "\n",
        "def create_ViT_model(num_class:int,\n",
        "                     seeds:int=42):\n",
        "  #GEt pretrained weights for ViT-Base\n",
        "  pretrained_vit_weights=torchvision.models.ViT_B_16_Weights.DEFAULT  # Default = best avaialable\n",
        "\n",
        "  # Getting automatic transforms from pretrained ViT weights\n",
        "  vit_transforms=pretrained_vit_weights.transforms()\n",
        "\n",
        "  # Setup a ViT model instance with pretrained weights\n",
        "  pretrained_vit=torchvision.models.vit_b_16(weights=pretrained_vit_weights).to(device)\n",
        "\n",
        "  # Freeze the base parameters\n",
        "  for parameter in pretrained_vit.parameters():\n",
        "    parameter.requires_grad=False\n",
        "\n",
        "  # Updating the classifier head\n",
        "  pretrained_vit.heads=nn.Linear(in_features=768,\n",
        "                                out_features=num_class).to(device)\n",
        "  return pretrained_vit,vit_transforms"
      ],
      "metadata": {
        "id": "6tHv5DQZXEW3"
      },
      "execution_count": null,
      "outputs": []
    },
    {
      "cell_type": "code",
      "source": [
        "import torch\n",
        "from pathlib import Path\n",
        "import torchvision\n",
        "from torch import nn\n",
        "from torchvision import datasets, transforms\n",
        "from torch.utils.data import DataLoader\n",
        "\n",
        "def create_dataloaders(\n",
        "    train_dir: str,\n",
        "    test_dir: str,\n",
        "    transform: transforms.Compose,\n",
        "    batch_size: int,\n",
        "    num_workers: int):\n",
        "  # Use ImageFolder to create dataset(s)\n",
        "  train_data = datasets.ImageFolder(train_dir, transform=transform)\n",
        "  test_data = datasets.ImageFolder(test_dir, transform=transform)\n",
        "\n",
        "  # Get class names\n",
        "  class_names = train_data.classes\n",
        "\n",
        "  # Turn images into data loaders\n",
        "  train_dataloader = DataLoader(\n",
        "      train_data,\n",
        "      batch_size=batch_size,\n",
        "      shuffle=True,\n",
        "      num_workers=num_workers,\n",
        "      pin_memory=True,\n",
        "  )\n",
        "  test_dataloader = DataLoader(\n",
        "      test_data,\n",
        "      batch_size=batch_size,\n",
        "      shuffle=False, # don't need to shuffle test data\n",
        "      num_workers=num_workers,\n",
        "      pin_memory=True,\n",
        "  )\n",
        "\n",
        "\n",
        "\n",
        "\n",
        "  return train_dataloader, test_dataloader, class_names"
      ],
      "metadata": {
        "id": "xRrZyiMbNMZ3"
      },
      "execution_count": null,
      "outputs": []
    },
    {
      "cell_type": "code",
      "source": [
        "try:\n",
        "  from torchinfo import summary\n",
        "except:\n",
        "  !pip install torchinfo\n",
        "  from torchinfo import summary\n",
        "from torchvision.models import resnet50, ResNet50_Weights\n",
        "num_classes=3\n",
        "# Initialize the Weight Transforms\n",
        "weights = ResNet50_Weights.DEFAULT\n",
        "resnet50_transformers = weights.transforms()\n",
        "\n",
        "resnet50_model= resnet50(weights=weights)\n",
        "\n",
        "\n",
        "\n",
        "summary(model=resnet50_model,\n",
        "        input_size=[1,3,224,224],\n",
        "        col_names=['input_size','output_size','num_params','trainable'],\n",
        "        col_width=20)"
      ],
      "metadata": {
        "colab": {
          "base_uri": "https://localhost:8080/"
        },
        "id": "_oYLxVOjN43M",
        "outputId": "3bf7eb07-41dc-4567-9ebf-98a89f116a2a"
      },
      "execution_count": null,
      "outputs": [
        {
          "output_type": "stream",
          "name": "stdout",
          "text": [
            "Collecting torchinfo\n",
            "  Downloading torchinfo-1.8.0-py3-none-any.whl.metadata (21 kB)\n",
            "Downloading torchinfo-1.8.0-py3-none-any.whl (23 kB)\n",
            "Installing collected packages: torchinfo\n",
            "Successfully installed torchinfo-1.8.0\n"
          ]
        },
        {
          "output_type": "stream",
          "name": "stderr",
          "text": [
            "Downloading: \"https://download.pytorch.org/models/resnet50-11ad3fa6.pth\" to /root/.cache/torch/hub/checkpoints/resnet50-11ad3fa6.pth\n",
            "100%|██████████| 97.8M/97.8M [00:00<00:00, 132MB/s]\n"
          ]
        },
        {
          "output_type": "execute_result",
          "data": {
            "text/plain": [
              "========================================================================================================================\n",
              "Layer (type:depth-idx)                   Input Shape          Output Shape         Param #              Trainable\n",
              "========================================================================================================================\n",
              "ResNet                                   [1, 3, 224, 224]     [1, 1000]            --                   True\n",
              "├─Conv2d: 1-1                            [1, 3, 224, 224]     [1, 64, 112, 112]    9,408                True\n",
              "├─BatchNorm2d: 1-2                       [1, 64, 112, 112]    [1, 64, 112, 112]    128                  True\n",
              "├─ReLU: 1-3                              [1, 64, 112, 112]    [1, 64, 112, 112]    --                   --\n",
              "├─MaxPool2d: 1-4                         [1, 64, 112, 112]    [1, 64, 56, 56]      --                   --\n",
              "├─Sequential: 1-5                        [1, 64, 56, 56]      [1, 256, 56, 56]     --                   True\n",
              "│    └─Bottleneck: 2-1                   [1, 64, 56, 56]      [1, 256, 56, 56]     --                   True\n",
              "│    │    └─Conv2d: 3-1                  [1, 64, 56, 56]      [1, 64, 56, 56]      4,096                True\n",
              "│    │    └─BatchNorm2d: 3-2             [1, 64, 56, 56]      [1, 64, 56, 56]      128                  True\n",
              "│    │    └─ReLU: 3-3                    [1, 64, 56, 56]      [1, 64, 56, 56]      --                   --\n",
              "│    │    └─Conv2d: 3-4                  [1, 64, 56, 56]      [1, 64, 56, 56]      36,864               True\n",
              "│    │    └─BatchNorm2d: 3-5             [1, 64, 56, 56]      [1, 64, 56, 56]      128                  True\n",
              "│    │    └─ReLU: 3-6                    [1, 64, 56, 56]      [1, 64, 56, 56]      --                   --\n",
              "│    │    └─Conv2d: 3-7                  [1, 64, 56, 56]      [1, 256, 56, 56]     16,384               True\n",
              "│    │    └─BatchNorm2d: 3-8             [1, 256, 56, 56]     [1, 256, 56, 56]     512                  True\n",
              "│    │    └─Sequential: 3-9              [1, 64, 56, 56]      [1, 256, 56, 56]     16,896               True\n",
              "│    │    └─ReLU: 3-10                   [1, 256, 56, 56]     [1, 256, 56, 56]     --                   --\n",
              "│    └─Bottleneck: 2-2                   [1, 256, 56, 56]     [1, 256, 56, 56]     --                   True\n",
              "│    │    └─Conv2d: 3-11                 [1, 256, 56, 56]     [1, 64, 56, 56]      16,384               True\n",
              "│    │    └─BatchNorm2d: 3-12            [1, 64, 56, 56]      [1, 64, 56, 56]      128                  True\n",
              "│    │    └─ReLU: 3-13                   [1, 64, 56, 56]      [1, 64, 56, 56]      --                   --\n",
              "│    │    └─Conv2d: 3-14                 [1, 64, 56, 56]      [1, 64, 56, 56]      36,864               True\n",
              "│    │    └─BatchNorm2d: 3-15            [1, 64, 56, 56]      [1, 64, 56, 56]      128                  True\n",
              "│    │    └─ReLU: 3-16                   [1, 64, 56, 56]      [1, 64, 56, 56]      --                   --\n",
              "│    │    └─Conv2d: 3-17                 [1, 64, 56, 56]      [1, 256, 56, 56]     16,384               True\n",
              "│    │    └─BatchNorm2d: 3-18            [1, 256, 56, 56]     [1, 256, 56, 56]     512                  True\n",
              "│    │    └─ReLU: 3-19                   [1, 256, 56, 56]     [1, 256, 56, 56]     --                   --\n",
              "│    └─Bottleneck: 2-3                   [1, 256, 56, 56]     [1, 256, 56, 56]     --                   True\n",
              "│    │    └─Conv2d: 3-20                 [1, 256, 56, 56]     [1, 64, 56, 56]      16,384               True\n",
              "│    │    └─BatchNorm2d: 3-21            [1, 64, 56, 56]      [1, 64, 56, 56]      128                  True\n",
              "│    │    └─ReLU: 3-22                   [1, 64, 56, 56]      [1, 64, 56, 56]      --                   --\n",
              "│    │    └─Conv2d: 3-23                 [1, 64, 56, 56]      [1, 64, 56, 56]      36,864               True\n",
              "│    │    └─BatchNorm2d: 3-24            [1, 64, 56, 56]      [1, 64, 56, 56]      128                  True\n",
              "│    │    └─ReLU: 3-25                   [1, 64, 56, 56]      [1, 64, 56, 56]      --                   --\n",
              "│    │    └─Conv2d: 3-26                 [1, 64, 56, 56]      [1, 256, 56, 56]     16,384               True\n",
              "│    │    └─BatchNorm2d: 3-27            [1, 256, 56, 56]     [1, 256, 56, 56]     512                  True\n",
              "│    │    └─ReLU: 3-28                   [1, 256, 56, 56]     [1, 256, 56, 56]     --                   --\n",
              "├─Sequential: 1-6                        [1, 256, 56, 56]     [1, 512, 28, 28]     --                   True\n",
              "│    └─Bottleneck: 2-4                   [1, 256, 56, 56]     [1, 512, 28, 28]     --                   True\n",
              "│    │    └─Conv2d: 3-29                 [1, 256, 56, 56]     [1, 128, 56, 56]     32,768               True\n",
              "│    │    └─BatchNorm2d: 3-30            [1, 128, 56, 56]     [1, 128, 56, 56]     256                  True\n",
              "│    │    └─ReLU: 3-31                   [1, 128, 56, 56]     [1, 128, 56, 56]     --                   --\n",
              "│    │    └─Conv2d: 3-32                 [1, 128, 56, 56]     [1, 128, 28, 28]     147,456              True\n",
              "│    │    └─BatchNorm2d: 3-33            [1, 128, 28, 28]     [1, 128, 28, 28]     256                  True\n",
              "│    │    └─ReLU: 3-34                   [1, 128, 28, 28]     [1, 128, 28, 28]     --                   --\n",
              "│    │    └─Conv2d: 3-35                 [1, 128, 28, 28]     [1, 512, 28, 28]     65,536               True\n",
              "│    │    └─BatchNorm2d: 3-36            [1, 512, 28, 28]     [1, 512, 28, 28]     1,024                True\n",
              "│    │    └─Sequential: 3-37             [1, 256, 56, 56]     [1, 512, 28, 28]     132,096              True\n",
              "│    │    └─ReLU: 3-38                   [1, 512, 28, 28]     [1, 512, 28, 28]     --                   --\n",
              "│    └─Bottleneck: 2-5                   [1, 512, 28, 28]     [1, 512, 28, 28]     --                   True\n",
              "│    │    └─Conv2d: 3-39                 [1, 512, 28, 28]     [1, 128, 28, 28]     65,536               True\n",
              "│    │    └─BatchNorm2d: 3-40            [1, 128, 28, 28]     [1, 128, 28, 28]     256                  True\n",
              "│    │    └─ReLU: 3-41                   [1, 128, 28, 28]     [1, 128, 28, 28]     --                   --\n",
              "│    │    └─Conv2d: 3-42                 [1, 128, 28, 28]     [1, 128, 28, 28]     147,456              True\n",
              "│    │    └─BatchNorm2d: 3-43            [1, 128, 28, 28]     [1, 128, 28, 28]     256                  True\n",
              "│    │    └─ReLU: 3-44                   [1, 128, 28, 28]     [1, 128, 28, 28]     --                   --\n",
              "│    │    └─Conv2d: 3-45                 [1, 128, 28, 28]     [1, 512, 28, 28]     65,536               True\n",
              "│    │    └─BatchNorm2d: 3-46            [1, 512, 28, 28]     [1, 512, 28, 28]     1,024                True\n",
              "│    │    └─ReLU: 3-47                   [1, 512, 28, 28]     [1, 512, 28, 28]     --                   --\n",
              "│    └─Bottleneck: 2-6                   [1, 512, 28, 28]     [1, 512, 28, 28]     --                   True\n",
              "│    │    └─Conv2d: 3-48                 [1, 512, 28, 28]     [1, 128, 28, 28]     65,536               True\n",
              "│    │    └─BatchNorm2d: 3-49            [1, 128, 28, 28]     [1, 128, 28, 28]     256                  True\n",
              "│    │    └─ReLU: 3-50                   [1, 128, 28, 28]     [1, 128, 28, 28]     --                   --\n",
              "│    │    └─Conv2d: 3-51                 [1, 128, 28, 28]     [1, 128, 28, 28]     147,456              True\n",
              "│    │    └─BatchNorm2d: 3-52            [1, 128, 28, 28]     [1, 128, 28, 28]     256                  True\n",
              "│    │    └─ReLU: 3-53                   [1, 128, 28, 28]     [1, 128, 28, 28]     --                   --\n",
              "│    │    └─Conv2d: 3-54                 [1, 128, 28, 28]     [1, 512, 28, 28]     65,536               True\n",
              "│    │    └─BatchNorm2d: 3-55            [1, 512, 28, 28]     [1, 512, 28, 28]     1,024                True\n",
              "│    │    └─ReLU: 3-56                   [1, 512, 28, 28]     [1, 512, 28, 28]     --                   --\n",
              "│    └─Bottleneck: 2-7                   [1, 512, 28, 28]     [1, 512, 28, 28]     --                   True\n",
              "│    │    └─Conv2d: 3-57                 [1, 512, 28, 28]     [1, 128, 28, 28]     65,536               True\n",
              "│    │    └─BatchNorm2d: 3-58            [1, 128, 28, 28]     [1, 128, 28, 28]     256                  True\n",
              "│    │    └─ReLU: 3-59                   [1, 128, 28, 28]     [1, 128, 28, 28]     --                   --\n",
              "│    │    └─Conv2d: 3-60                 [1, 128, 28, 28]     [1, 128, 28, 28]     147,456              True\n",
              "│    │    └─BatchNorm2d: 3-61            [1, 128, 28, 28]     [1, 128, 28, 28]     256                  True\n",
              "│    │    └─ReLU: 3-62                   [1, 128, 28, 28]     [1, 128, 28, 28]     --                   --\n",
              "│    │    └─Conv2d: 3-63                 [1, 128, 28, 28]     [1, 512, 28, 28]     65,536               True\n",
              "│    │    └─BatchNorm2d: 3-64            [1, 512, 28, 28]     [1, 512, 28, 28]     1,024                True\n",
              "│    │    └─ReLU: 3-65                   [1, 512, 28, 28]     [1, 512, 28, 28]     --                   --\n",
              "├─Sequential: 1-7                        [1, 512, 28, 28]     [1, 1024, 14, 14]    --                   True\n",
              "│    └─Bottleneck: 2-8                   [1, 512, 28, 28]     [1, 1024, 14, 14]    --                   True\n",
              "│    │    └─Conv2d: 3-66                 [1, 512, 28, 28]     [1, 256, 28, 28]     131,072              True\n",
              "│    │    └─BatchNorm2d: 3-67            [1, 256, 28, 28]     [1, 256, 28, 28]     512                  True\n",
              "│    │    └─ReLU: 3-68                   [1, 256, 28, 28]     [1, 256, 28, 28]     --                   --\n",
              "│    │    └─Conv2d: 3-69                 [1, 256, 28, 28]     [1, 256, 14, 14]     589,824              True\n",
              "│    │    └─BatchNorm2d: 3-70            [1, 256, 14, 14]     [1, 256, 14, 14]     512                  True\n",
              "│    │    └─ReLU: 3-71                   [1, 256, 14, 14]     [1, 256, 14, 14]     --                   --\n",
              "│    │    └─Conv2d: 3-72                 [1, 256, 14, 14]     [1, 1024, 14, 14]    262,144              True\n",
              "│    │    └─BatchNorm2d: 3-73            [1, 1024, 14, 14]    [1, 1024, 14, 14]    2,048                True\n",
              "│    │    └─Sequential: 3-74             [1, 512, 28, 28]     [1, 1024, 14, 14]    526,336              True\n",
              "│    │    └─ReLU: 3-75                   [1, 1024, 14, 14]    [1, 1024, 14, 14]    --                   --\n",
              "│    └─Bottleneck: 2-9                   [1, 1024, 14, 14]    [1, 1024, 14, 14]    --                   True\n",
              "│    │    └─Conv2d: 3-76                 [1, 1024, 14, 14]    [1, 256, 14, 14]     262,144              True\n",
              "│    │    └─BatchNorm2d: 3-77            [1, 256, 14, 14]     [1, 256, 14, 14]     512                  True\n",
              "│    │    └─ReLU: 3-78                   [1, 256, 14, 14]     [1, 256, 14, 14]     --                   --\n",
              "│    │    └─Conv2d: 3-79                 [1, 256, 14, 14]     [1, 256, 14, 14]     589,824              True\n",
              "│    │    └─BatchNorm2d: 3-80            [1, 256, 14, 14]     [1, 256, 14, 14]     512                  True\n",
              "│    │    └─ReLU: 3-81                   [1, 256, 14, 14]     [1, 256, 14, 14]     --                   --\n",
              "│    │    └─Conv2d: 3-82                 [1, 256, 14, 14]     [1, 1024, 14, 14]    262,144              True\n",
              "│    │    └─BatchNorm2d: 3-83            [1, 1024, 14, 14]    [1, 1024, 14, 14]    2,048                True\n",
              "│    │    └─ReLU: 3-84                   [1, 1024, 14, 14]    [1, 1024, 14, 14]    --                   --\n",
              "│    └─Bottleneck: 2-10                  [1, 1024, 14, 14]    [1, 1024, 14, 14]    --                   True\n",
              "│    │    └─Conv2d: 3-85                 [1, 1024, 14, 14]    [1, 256, 14, 14]     262,144              True\n",
              "│    │    └─BatchNorm2d: 3-86            [1, 256, 14, 14]     [1, 256, 14, 14]     512                  True\n",
              "│    │    └─ReLU: 3-87                   [1, 256, 14, 14]     [1, 256, 14, 14]     --                   --\n",
              "│    │    └─Conv2d: 3-88                 [1, 256, 14, 14]     [1, 256, 14, 14]     589,824              True\n",
              "│    │    └─BatchNorm2d: 3-89            [1, 256, 14, 14]     [1, 256, 14, 14]     512                  True\n",
              "│    │    └─ReLU: 3-90                   [1, 256, 14, 14]     [1, 256, 14, 14]     --                   --\n",
              "│    │    └─Conv2d: 3-91                 [1, 256, 14, 14]     [1, 1024, 14, 14]    262,144              True\n",
              "│    │    └─BatchNorm2d: 3-92            [1, 1024, 14, 14]    [1, 1024, 14, 14]    2,048                True\n",
              "│    │    └─ReLU: 3-93                   [1, 1024, 14, 14]    [1, 1024, 14, 14]    --                   --\n",
              "│    └─Bottleneck: 2-11                  [1, 1024, 14, 14]    [1, 1024, 14, 14]    --                   True\n",
              "│    │    └─Conv2d: 3-94                 [1, 1024, 14, 14]    [1, 256, 14, 14]     262,144              True\n",
              "│    │    └─BatchNorm2d: 3-95            [1, 256, 14, 14]     [1, 256, 14, 14]     512                  True\n",
              "│    │    └─ReLU: 3-96                   [1, 256, 14, 14]     [1, 256, 14, 14]     --                   --\n",
              "│    │    └─Conv2d: 3-97                 [1, 256, 14, 14]     [1, 256, 14, 14]     589,824              True\n",
              "│    │    └─BatchNorm2d: 3-98            [1, 256, 14, 14]     [1, 256, 14, 14]     512                  True\n",
              "│    │    └─ReLU: 3-99                   [1, 256, 14, 14]     [1, 256, 14, 14]     --                   --\n",
              "│    │    └─Conv2d: 3-100                [1, 256, 14, 14]     [1, 1024, 14, 14]    262,144              True\n",
              "│    │    └─BatchNorm2d: 3-101           [1, 1024, 14, 14]    [1, 1024, 14, 14]    2,048                True\n",
              "│    │    └─ReLU: 3-102                  [1, 1024, 14, 14]    [1, 1024, 14, 14]    --                   --\n",
              "│    └─Bottleneck: 2-12                  [1, 1024, 14, 14]    [1, 1024, 14, 14]    --                   True\n",
              "│    │    └─Conv2d: 3-103                [1, 1024, 14, 14]    [1, 256, 14, 14]     262,144              True\n",
              "│    │    └─BatchNorm2d: 3-104           [1, 256, 14, 14]     [1, 256, 14, 14]     512                  True\n",
              "│    │    └─ReLU: 3-105                  [1, 256, 14, 14]     [1, 256, 14, 14]     --                   --\n",
              "│    │    └─Conv2d: 3-106                [1, 256, 14, 14]     [1, 256, 14, 14]     589,824              True\n",
              "│    │    └─BatchNorm2d: 3-107           [1, 256, 14, 14]     [1, 256, 14, 14]     512                  True\n",
              "│    │    └─ReLU: 3-108                  [1, 256, 14, 14]     [1, 256, 14, 14]     --                   --\n",
              "│    │    └─Conv2d: 3-109                [1, 256, 14, 14]     [1, 1024, 14, 14]    262,144              True\n",
              "│    │    └─BatchNorm2d: 3-110           [1, 1024, 14, 14]    [1, 1024, 14, 14]    2,048                True\n",
              "│    │    └─ReLU: 3-111                  [1, 1024, 14, 14]    [1, 1024, 14, 14]    --                   --\n",
              "│    └─Bottleneck: 2-13                  [1, 1024, 14, 14]    [1, 1024, 14, 14]    --                   True\n",
              "│    │    └─Conv2d: 3-112                [1, 1024, 14, 14]    [1, 256, 14, 14]     262,144              True\n",
              "│    │    └─BatchNorm2d: 3-113           [1, 256, 14, 14]     [1, 256, 14, 14]     512                  True\n",
              "│    │    └─ReLU: 3-114                  [1, 256, 14, 14]     [1, 256, 14, 14]     --                   --\n",
              "│    │    └─Conv2d: 3-115                [1, 256, 14, 14]     [1, 256, 14, 14]     589,824              True\n",
              "│    │    └─BatchNorm2d: 3-116           [1, 256, 14, 14]     [1, 256, 14, 14]     512                  True\n",
              "│    │    └─ReLU: 3-117                  [1, 256, 14, 14]     [1, 256, 14, 14]     --                   --\n",
              "│    │    └─Conv2d: 3-118                [1, 256, 14, 14]     [1, 1024, 14, 14]    262,144              True\n",
              "│    │    └─BatchNorm2d: 3-119           [1, 1024, 14, 14]    [1, 1024, 14, 14]    2,048                True\n",
              "│    │    └─ReLU: 3-120                  [1, 1024, 14, 14]    [1, 1024, 14, 14]    --                   --\n",
              "├─Sequential: 1-8                        [1, 1024, 14, 14]    [1, 2048, 7, 7]      --                   True\n",
              "│    └─Bottleneck: 2-14                  [1, 1024, 14, 14]    [1, 2048, 7, 7]      --                   True\n",
              "│    │    └─Conv2d: 3-121                [1, 1024, 14, 14]    [1, 512, 14, 14]     524,288              True\n",
              "│    │    └─BatchNorm2d: 3-122           [1, 512, 14, 14]     [1, 512, 14, 14]     1,024                True\n",
              "│    │    └─ReLU: 3-123                  [1, 512, 14, 14]     [1, 512, 14, 14]     --                   --\n",
              "│    │    └─Conv2d: 3-124                [1, 512, 14, 14]     [1, 512, 7, 7]       2,359,296            True\n",
              "│    │    └─BatchNorm2d: 3-125           [1, 512, 7, 7]       [1, 512, 7, 7]       1,024                True\n",
              "│    │    └─ReLU: 3-126                  [1, 512, 7, 7]       [1, 512, 7, 7]       --                   --\n",
              "│    │    └─Conv2d: 3-127                [1, 512, 7, 7]       [1, 2048, 7, 7]      1,048,576            True\n",
              "│    │    └─BatchNorm2d: 3-128           [1, 2048, 7, 7]      [1, 2048, 7, 7]      4,096                True\n",
              "│    │    └─Sequential: 3-129            [1, 1024, 14, 14]    [1, 2048, 7, 7]      2,101,248            True\n",
              "│    │    └─ReLU: 3-130                  [1, 2048, 7, 7]      [1, 2048, 7, 7]      --                   --\n",
              "│    └─Bottleneck: 2-15                  [1, 2048, 7, 7]      [1, 2048, 7, 7]      --                   True\n",
              "│    │    └─Conv2d: 3-131                [1, 2048, 7, 7]      [1, 512, 7, 7]       1,048,576            True\n",
              "│    │    └─BatchNorm2d: 3-132           [1, 512, 7, 7]       [1, 512, 7, 7]       1,024                True\n",
              "│    │    └─ReLU: 3-133                  [1, 512, 7, 7]       [1, 512, 7, 7]       --                   --\n",
              "│    │    └─Conv2d: 3-134                [1, 512, 7, 7]       [1, 512, 7, 7]       2,359,296            True\n",
              "│    │    └─BatchNorm2d: 3-135           [1, 512, 7, 7]       [1, 512, 7, 7]       1,024                True\n",
              "│    │    └─ReLU: 3-136                  [1, 512, 7, 7]       [1, 512, 7, 7]       --                   --\n",
              "│    │    └─Conv2d: 3-137                [1, 512, 7, 7]       [1, 2048, 7, 7]      1,048,576            True\n",
              "│    │    └─BatchNorm2d: 3-138           [1, 2048, 7, 7]      [1, 2048, 7, 7]      4,096                True\n",
              "│    │    └─ReLU: 3-139                  [1, 2048, 7, 7]      [1, 2048, 7, 7]      --                   --\n",
              "│    └─Bottleneck: 2-16                  [1, 2048, 7, 7]      [1, 2048, 7, 7]      --                   True\n",
              "│    │    └─Conv2d: 3-140                [1, 2048, 7, 7]      [1, 512, 7, 7]       1,048,576            True\n",
              "│    │    └─BatchNorm2d: 3-141           [1, 512, 7, 7]       [1, 512, 7, 7]       1,024                True\n",
              "│    │    └─ReLU: 3-142                  [1, 512, 7, 7]       [1, 512, 7, 7]       --                   --\n",
              "│    │    └─Conv2d: 3-143                [1, 512, 7, 7]       [1, 512, 7, 7]       2,359,296            True\n",
              "│    │    └─BatchNorm2d: 3-144           [1, 512, 7, 7]       [1, 512, 7, 7]       1,024                True\n",
              "│    │    └─ReLU: 3-145                  [1, 512, 7, 7]       [1, 512, 7, 7]       --                   --\n",
              "│    │    └─Conv2d: 3-146                [1, 512, 7, 7]       [1, 2048, 7, 7]      1,048,576            True\n",
              "│    │    └─BatchNorm2d: 3-147           [1, 2048, 7, 7]      [1, 2048, 7, 7]      4,096                True\n",
              "│    │    └─ReLU: 3-148                  [1, 2048, 7, 7]      [1, 2048, 7, 7]      --                   --\n",
              "├─AdaptiveAvgPool2d: 1-9                 [1, 2048, 7, 7]      [1, 2048, 1, 1]      --                   --\n",
              "├─Linear: 1-10                           [1, 2048]            [1, 1000]            2,049,000            True\n",
              "========================================================================================================================\n",
              "Total params: 25,557,032\n",
              "Trainable params: 25,557,032\n",
              "Non-trainable params: 0\n",
              "Total mult-adds (G): 4.09\n",
              "========================================================================================================================\n",
              "Input size (MB): 0.60\n",
              "Forward/backward pass size (MB): 177.83\n",
              "Params size (MB): 102.23\n",
              "Estimated Total Size (MB): 280.66\n",
              "========================================================================================================================"
            ]
          },
          "metadata": {},
          "execution_count": 17
        }
      ]
    },
    {
      "cell_type": "code",
      "source": [
        "train_dataloader,test_dataloader,class_names=create_dataloaders(train_dir=\"split_mask_data/train\",\n",
        "                                                              test_dir=\"split_mask_data/val\",\n",
        "                                                                transform=resnet50_transformers,\n",
        "                                                                batch_size=32,\n",
        "                                                                num_workers=os.cpu_count())"
      ],
      "metadata": {
        "id": "tqiUxTMpOBnK"
      },
      "execution_count": null,
      "outputs": []
    },
    {
      "cell_type": "code",
      "source": [
        "import torch\n",
        "\n",
        "from tqdm.auto import tqdm\n",
        "from typing import Dict, List, Tuple\n",
        "\n",
        "def train_step(model: torch.nn.Module,\n",
        "               dataloader: torch.utils.data.DataLoader,\n",
        "               loss_fn: torch.nn.Module,\n",
        "               optimizer: torch.optim.Optimizer,\n",
        "               device: torch.device) -> Tuple[float, float]:\n",
        "               # Put model in train mode\n",
        "  model.train()\n",
        "\n",
        "  # Setup train loss and train accuracy values\n",
        "  train_loss, train_acc = 0, 0\n",
        "\n",
        "  # Loop through data loader data batches\n",
        "  for batch, (X, y) in enumerate(dataloader):\n",
        "      # Send data to target device\n",
        "      X, y = X.to(device), y.to(device)\n",
        "\n",
        "      # 1. Forward pass\n",
        "      y_pred = model(X)\n",
        "\n",
        "      # 2. Calculate  and accumulate loss\n",
        "      loss = loss_fn(y_pred, y)\n",
        "      train_loss += loss.item()\n",
        "\n",
        "      # 3. Optimizer zero grad\n",
        "      optimizer.zero_grad()\n",
        "\n",
        "      # 4. Loss backward\n",
        "      loss.backward()\n",
        "\n",
        "      # 5. Optimizer step\n",
        "      optimizer.step()\n",
        "\n",
        "      # Calculate and accumulate accuracy metric across all batches\n",
        "      y_pred_class = torch.argmax(torch.softmax(y_pred, dim=1), dim=1)\n",
        "      train_acc += (y_pred_class == y).sum().item()/len(y_pred)\n",
        "\n",
        "  # Adjust metrics to get average loss and accuracy per batch\n",
        "  train_loss = train_loss / len(dataloader)\n",
        "  train_acc = train_acc / len(dataloader)\n",
        "  return train_loss, train_acc"
      ],
      "metadata": {
        "id": "wiKIJvq2OlcG"
      },
      "execution_count": null,
      "outputs": []
    },
    {
      "cell_type": "code",
      "source": [
        "def test_step(model: torch.nn.Module,\n",
        "              dataloader: torch.utils.data.DataLoader,\n",
        "              loss_fn: torch.nn.Module,\n",
        "              device: torch.device) -> Tuple[float, float]:\n",
        "              # Put model in eval mode\n",
        "  model.eval()\n",
        "\n",
        "  # Setup test loss and test accuracy values\n",
        "  test_loss, test_acc = 0, 0\n",
        "\n",
        "  # Turn on inference context manager\n",
        "  with torch.inference_mode():\n",
        "      # Loop through DataLoader batches\n",
        "      for batch, (X, y) in enumerate(dataloader):\n",
        "          # Send data to target device\n",
        "          X, y = X.to(device), y.to(device)\n",
        "\n",
        "          # 1. Forward pass\n",
        "          test_pred_logits = model(X)\n",
        "\n",
        "          # 2. Calculate and accumulate loss\n",
        "          loss = loss_fn(test_pred_logits, y)\n",
        "          test_loss += loss.item()\n",
        "\n",
        "          # Calculate and accumulate accuracy\n",
        "          test_pred_labels = test_pred_logits.argmax(dim=1)\n",
        "          test_acc += ((test_pred_labels == y).sum().item()/len(test_pred_labels))\n",
        "\n",
        "  # Adjust metrics to get average loss and accuracy per batch\n",
        "  test_loss = test_loss / len(dataloader)\n",
        "  test_acc = test_acc / len(dataloader)\n",
        "  return test_loss, test_acc"
      ],
      "metadata": {
        "id": "K7zMOuGnPNMd"
      },
      "execution_count": null,
      "outputs": []
    },
    {
      "cell_type": "code",
      "source": [
        "results = {\"train_loss\": [],\n",
        "      \"train_acc\": [],\n",
        "      \"test_loss\": [],\n",
        "      \"test_acc\": []\n",
        "  }\n",
        "\n",
        "def train(model: torch.nn.Module,\n",
        "          train_dataloader: torch.utils.data.DataLoader,\n",
        "          test_dataloader: torch.utils.data.DataLoader,\n",
        "          optimizer: torch.optim.Optimizer,\n",
        "          loss_fn: torch.nn.Module,\n",
        "          epochs: int,\n",
        "          device: torch.device) -> Dict[str, List]:\n",
        "          # Loop through training and testing steps for a number of epochs\n",
        "  for epoch in tqdm(range(epochs)):\n",
        "      train_loss, train_acc = train_step(model=model,\n",
        "                                          dataloader=train_dataloader,\n",
        "                                          loss_fn=loss_fn,\n",
        "                                          optimizer=optimizer,\n",
        "                                          device=device)\n",
        "      test_loss, test_acc = test_step(model=model,\n",
        "          dataloader=test_dataloader,\n",
        "          loss_fn=loss_fn,\n",
        "          device=device)\n",
        "\n",
        "      # Print out what's happening\n",
        "      print(\n",
        "          f\"Epoch: {epoch+1} | \"\n",
        "          f\"train_loss: {train_loss:.4f} | \"\n",
        "          f\"train_acc: {train_acc:.4f} | \"\n",
        "          f\"test_loss: {test_loss:.4f} | \"\n",
        "          f\"test_acc: {test_acc:.4f}\"\n",
        "      )\n",
        "\n",
        "      # Update results dictionary\n",
        "      results[\"train_loss\"].append(train_loss)\n",
        "      results[\"train_acc\"].append(train_acc)\n",
        "      results[\"test_loss\"].append(test_loss)\n",
        "      results[\"test_acc\"].append(test_acc)\n",
        "\n",
        "  # Return the filled results at the end of the epochs\n",
        "  return results"
      ],
      "metadata": {
        "id": "BZl8LCfUPWQx"
      },
      "execution_count": null,
      "outputs": []
    },
    {
      "cell_type": "code",
      "source": [
        "import matplotlib.pyplot as plt\n",
        "def plot_loss_curves(results):\n",
        "  loss = results[\"train_loss\"]\n",
        "  test_loss = results[\"test_loss\"]\n",
        "\n",
        "  accuracy = results[\"train_acc\"]\n",
        "  test_accuracy = results[\"test_acc\"]\n",
        "\n",
        "  epochs = range(len(results[\"train_loss\"]))\n",
        "\n",
        "  plt.figure(figsize=(15, 7))\n",
        "\n",
        "  # Plot loss\n",
        "  plt.subplot(1, 2, 1)\n",
        "  plt.plot(epochs, loss, label=\"train_loss\")\n",
        "  plt.plot(epochs, test_loss, label=\"test_loss\")\n",
        "  plt.title(\"Loss\")\n",
        "  plt.xlabel(\"Epochs\")\n",
        "  plt.legend()\n",
        "\n",
        "  # Plot accuracy\n",
        "  plt.subplot(1, 2, 2)\n",
        "  plt.plot(epochs, accuracy, label=\"train_accuracy\")\n",
        "  plt.plot(epochs, test_accuracy, label=\"test_accuracy\")\n",
        "  plt.title(\"Accuracy\")\n",
        "  plt.xlabel(\"Epochs\")\n",
        "  plt.legend()"
      ],
      "metadata": {
        "id": "Mm14ISjzPmxi"
      },
      "execution_count": null,
      "outputs": []
    },
    {
      "cell_type": "code",
      "source": [
        "loss_fn= nn.CrossEntropyLoss()\n",
        "\n",
        "optimizer= torch.optim.SGD(params=resnet50_model.parameters(),lr=1e-3)\n",
        "\n",
        "\n",
        "resnet50_results=train(model=resnet50_model,\n",
        "                      train_dataloader=train_dataloader,\n",
        "                       test_dataloader=test_dataloader,\n",
        "                       optimizer=optimizer,\n",
        "                       loss_fn=loss_fn,\n",
        "                       epochs=50,\n",
        "                       device=device)"
      ],
      "metadata": {
        "colab": {
          "base_uri": "https://localhost:8080/",
          "height": 917,
          "referenced_widgets": [
            "a7bad15a09454cb297d5c4a92e9300cd",
            "f5d95ed2d78644988009ee7862cb2f69",
            "8a7d93eeec774169944327e2fae51e01",
            "fb6fbc62ac8b416e8a37d446f0c316fd",
            "73fd45455bb241aa99cf627517670a87",
            "be9e538a26974364b1be19b7ae5c02c5",
            "89e3fa0bb8254f9c8a137fbc944afa10",
            "462231aeb2bb4a3e8ffd46919acf4003",
            "0639f9e9cedd464d8544627a5c2e31c6",
            "507c1958a63f43c29a48f80272c2de63",
            "bca79012fa3544dbb7cb160cc25ae9e3"
          ]
        },
        "collapsed": true,
        "id": "N09FkTnrQM1R",
        "outputId": "c1166e11-28ea-40b3-bcc1-72cd87a051af"
      },
      "execution_count": null,
      "outputs": [
        {
          "output_type": "display_data",
          "data": {
            "text/plain": [
              "  0%|          | 0/50 [00:00<?, ?it/s]"
            ],
            "application/vnd.jupyter.widget-view+json": {
              "version_major": 2,
              "version_minor": 0,
              "model_id": "a7bad15a09454cb297d5c4a92e9300cd"
            }
          },
          "metadata": {}
        },
        {
          "output_type": "stream",
          "name": "stdout",
          "text": [
            "Epoch: 1 | train_loss: 6.9908 | train_acc: 0.0000 | test_loss: 6.7619 | test_acc: 0.0000\n",
            "Epoch: 2 | train_loss: 6.5018 | train_acc: 0.0000 | test_loss: 6.2663 | test_acc: 0.0104\n",
            "Epoch: 3 | train_loss: 5.9432 | train_acc: 0.0185 | test_loss: 5.7247 | test_acc: 0.0417\n",
            "Epoch: 4 | train_loss: 5.2193 | train_acc: 0.1102 | test_loss: 4.9997 | test_acc: 0.1406\n",
            "Epoch: 5 | train_loss: 4.2486 | train_acc: 0.3617 | test_loss: 3.9968 | test_acc: 0.4271\n",
            "Epoch: 6 | train_loss: 3.3087 | train_acc: 0.6001 | test_loss: 3.2631 | test_acc: 0.6094\n",
            "Epoch: 7 | train_loss: 2.5976 | train_acc: 0.7535 | test_loss: 2.8677 | test_acc: 0.6719\n",
            "Epoch: 8 | train_loss: 2.1175 | train_acc: 0.7884 | test_loss: 2.5933 | test_acc: 0.7083\n",
            "Epoch: 9 | train_loss: 1.8750 | train_acc: 0.8024 | test_loss: 2.4765 | test_acc: 0.7135\n",
            "Epoch: 10 | train_loss: 1.7002 | train_acc: 0.8037 | test_loss: 2.3034 | test_acc: 0.7188\n",
            "Epoch: 11 | train_loss: 1.4931 | train_acc: 0.8224 | test_loss: 2.2129 | test_acc: 0.7188\n",
            "Epoch: 12 | train_loss: 1.4525 | train_acc: 0.8059 | test_loss: 2.1175 | test_acc: 0.7188\n",
            "Epoch: 13 | train_loss: 1.3028 | train_acc: 0.8224 | test_loss: 2.0685 | test_acc: 0.7188\n",
            "Epoch: 14 | train_loss: 1.2618 | train_acc: 0.8188 | test_loss: 2.0509 | test_acc: 0.7240\n",
            "Epoch: 15 | train_loss: 1.1739 | train_acc: 0.8174 | test_loss: 1.9788 | test_acc: 0.7240\n",
            "Epoch: 16 | train_loss: 1.1575 | train_acc: 0.8166 | test_loss: 1.9232 | test_acc: 0.7188\n",
            "Epoch: 17 | train_loss: 1.0839 | train_acc: 0.8188 | test_loss: 1.9034 | test_acc: 0.7188\n",
            "Epoch: 18 | train_loss: 1.0352 | train_acc: 0.8188 | test_loss: 1.8264 | test_acc: 0.7240\n",
            "Epoch: 19 | train_loss: 0.9829 | train_acc: 0.8217 | test_loss: 1.7674 | test_acc: 0.7188\n",
            "Epoch: 20 | train_loss: 0.9363 | train_acc: 0.8202 | test_loss: 1.6897 | test_acc: 0.7240\n",
            "Epoch: 21 | train_loss: 0.8864 | train_acc: 0.8281 | test_loss: 1.6684 | test_acc: 0.7240\n",
            "Epoch: 22 | train_loss: 0.8479 | train_acc: 0.8194 | test_loss: 1.6005 | test_acc: 0.7240\n",
            "Epoch: 23 | train_loss: 0.8130 | train_acc: 0.8223 | test_loss: 1.5786 | test_acc: 0.7292\n",
            "Epoch: 24 | train_loss: 0.7570 | train_acc: 0.8310 | test_loss: 1.5233 | test_acc: 0.7292\n",
            "Epoch: 25 | train_loss: 0.7199 | train_acc: 0.8310 | test_loss: 1.4597 | test_acc: 0.7292\n",
            "Epoch: 26 | train_loss: 0.6976 | train_acc: 0.8330 | test_loss: 1.4316 | test_acc: 0.7292\n",
            "Epoch: 27 | train_loss: 0.7228 | train_acc: 0.8294 | test_loss: 1.3841 | test_acc: 0.7240\n",
            "Epoch: 28 | train_loss: 0.6822 | train_acc: 0.8314 | test_loss: 1.3563 | test_acc: 0.7292\n",
            "Epoch: 29 | train_loss: 0.5983 | train_acc: 0.8458 | test_loss: 1.3788 | test_acc: 0.7240\n",
            "Epoch: 30 | train_loss: 0.6007 | train_acc: 0.8422 | test_loss: 1.3126 | test_acc: 0.7292\n",
            "Epoch: 31 | train_loss: 0.5546 | train_acc: 0.8550 | test_loss: 1.2999 | test_acc: 0.7240\n",
            "Epoch: 32 | train_loss: 0.5517 | train_acc: 0.8521 | test_loss: 1.2851 | test_acc: 0.7240\n",
            "Epoch: 33 | train_loss: 0.5013 | train_acc: 0.8722 | test_loss: 1.2673 | test_acc: 0.7240\n",
            "Epoch: 34 | train_loss: 0.4949 | train_acc: 0.8699 | test_loss: 1.2322 | test_acc: 0.7240\n",
            "Epoch: 35 | train_loss: 0.5070 | train_acc: 0.8655 | test_loss: 1.2334 | test_acc: 0.7240\n",
            "Epoch: 36 | train_loss: 0.4733 | train_acc: 0.8692 | test_loss: 1.2361 | test_acc: 0.7240\n",
            "Epoch: 37 | train_loss: 0.4516 | train_acc: 0.8849 | test_loss: 1.2394 | test_acc: 0.7378\n",
            "Epoch: 38 | train_loss: 0.4279 | train_acc: 0.8793 | test_loss: 1.1874 | test_acc: 0.7240\n",
            "Epoch: 39 | train_loss: 0.4838 | train_acc: 0.8682 | test_loss: 1.2052 | test_acc: 0.7240\n",
            "Epoch: 40 | train_loss: 0.4064 | train_acc: 0.8821 | test_loss: 1.1826 | test_acc: 0.7240\n",
            "Epoch: 41 | train_loss: 0.4126 | train_acc: 0.8856 | test_loss: 1.1794 | test_acc: 0.7240\n",
            "Epoch: 42 | train_loss: 0.3871 | train_acc: 0.8935 | test_loss: 1.2003 | test_acc: 0.7378\n",
            "Epoch: 43 | train_loss: 0.3806 | train_acc: 0.8913 | test_loss: 1.2636 | test_acc: 0.7240\n",
            "Epoch: 44 | train_loss: 0.3977 | train_acc: 0.8927 | test_loss: 1.1452 | test_acc: 0.7240\n",
            "Epoch: 45 | train_loss: 0.3504 | train_acc: 0.9004 | test_loss: 1.1261 | test_acc: 0.7378\n",
            "Epoch: 46 | train_loss: 0.3393 | train_acc: 0.9162 | test_loss: 1.1397 | test_acc: 0.7378\n",
            "Epoch: 47 | train_loss: 0.3513 | train_acc: 0.8954 | test_loss: 1.1213 | test_acc: 0.7240\n",
            "Epoch: 48 | train_loss: 0.3208 | train_acc: 0.9154 | test_loss: 1.1076 | test_acc: 0.7517\n",
            "Epoch: 49 | train_loss: 0.3166 | train_acc: 0.9111 | test_loss: 1.1406 | test_acc: 0.7378\n",
            "Epoch: 50 | train_loss: 0.3263 | train_acc: 0.9110 | test_loss: 1.1102 | test_acc: 0.7517\n"
          ]
        }
      ]
    },
    {
      "cell_type": "code",
      "source": [
        "plot_loss_curves(resnet50_results)"
      ],
      "metadata": {
        "colab": {
          "base_uri": "https://localhost:8080/",
          "height": 534
        },
        "id": "sEcEyGcnQpep",
        "outputId": "29a8b62a-8965-494b-d27c-f766b1dc9599"
      },
      "execution_count": null,
      "outputs": [
        {
          "output_type": "display_data",
          "data": {
            "text/plain": [
              "<Figure size 1500x700 with 2 Axes>"
            ],
            "image/png": "[encoded data removed]"
          },
          "metadata": {}
        }
      ]
    },
    {
      "cell_type": "code",
      "source": [
        "torch.save(resnet50_model.state_dict(), 'mask_detection_resnet60_50epochs_model.pth')"
      ],
      "metadata": {
        "id": "viLkM-M2W1JC"
      },
      "execution_count": null,
      "outputs": []
    }
  ]
}